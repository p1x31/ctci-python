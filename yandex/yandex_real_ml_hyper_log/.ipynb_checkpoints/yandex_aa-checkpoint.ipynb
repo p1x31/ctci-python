{
 "cells": [
  {
   "cell_type": "code",
   "execution_count": 4,
   "metadata": {},
   "outputs": [
    {
     "name": "stdout",
     "output_type": "stream",
     "text": [
      "free coeff:  -0.8369463862218254\n",
      "2ab error:  77.59989194940356\n",
      "1.0399924430135006 3.299718365297834 -0.7482592895892463\n"
     ]
    }
   ],
   "source": [
    "import sklearn.linear_model as lm\n",
    "from sklearn.linear_model import Ridge\n",
    "from sklearn.linear_model import Lasso\n",
    "import math\n",
    "import random\n",
    "\n",
    "x = []\n",
    "y = []\n",
    "\n",
    "for line in open('data.txt'):\n",
    "    xx, yy = map(float, line.strip().split())\n",
    "    x.append(xx)\n",
    "    y.append(yy)\n",
    "\n",
    "features = []\n",
    "for xx in x:\n",
    "    curFeatures = [\n",
    "        math.exp(xx*2),                          # a^2\n",
    "        (xx) ** (3/2),                             # b^2\n",
    "        math.exp(xx) * ((xx) ** (3/4)),            # 2ab\n",
    "        math.cos(xx ** 2),# c\n",
    "        2 * random.uniform(-0.001, 0.001) * math.exp(xx*2),\n",
    "        2 * random.uniform(-0.001, 0.001) * ((xx) ** (3/4))\n",
    "    ]\n",
    "    features.append(curFeatures)\n",
    "\n",
    "linearModel = lm.LinearRegression()\n",
    "linearModel.fit(features, y)\n",
    "\n",
    "coeffs = linearModel.coef_\n",
    "#random.uniform(-0.001, 0.001)\n",
    "a = (math.sqrt(coeffs[0])+coeffs[4])/2\n",
    "b = (math.sqrt(coeffs[1])+coeffs[5])/2\n",
    "c = coeffs[3]\n",
    "\n",
    "print (\"free coeff: \", linearModel.intercept_)\n",
    "print (\"2ab error: \", coeffs[2] - 2 * a * b)\n",
    "print (a, b, c)"
   ]
  },
  {
   "cell_type": "code",
   "execution_count": null,
   "metadata": {},
   "outputs": [],
   "source": []
  }
 ],
 "metadata": {
  "kernelspec": {
   "display_name": "Python 3",
   "language": "python",
   "name": "python3"
  },
  "language_info": {
   "codemirror_mode": {
    "name": "ipython",
    "version": 3
   },
   "file_extension": ".py",
   "mimetype": "text/x-python",
   "name": "python",
   "nbconvert_exporter": "python",
   "pygments_lexer": "ipython3",
   "version": "3.6.10"
  }
 },
 "nbformat": 4,
 "nbformat_minor": 4
}
