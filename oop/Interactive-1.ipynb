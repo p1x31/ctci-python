{
 "cells": [
  {
   "cell_type": "markdown",
   "metadata": {},
   "source": [
    "Connected to Python 3.10.6"
   ]
  },
  {
   "cell_type": "code",
   "execution_count": 1,
   "metadata": {},
   "source": [
    "class Point:\n",
    "\n",
    "    #class atributes\n",
    "    color = \"red\"\n",
    "    radius = 2\n",
    "\n",
    "    #constructor\n",
    "    def __init__(self, x, y):\n",
    "        self.x = x\n",
    "        self.y = y\n",
    "\n",
    "Point.color = \"blue\"\n",
    "print(Point.color)\n",
    "print(Point.__dict__)\n",
    "a = Point(1, 2)\n",
    "print(isinstance(a, Point))\n",
    "print(type(a))"
   ],
   "outputs": []
  },
  {
   "cell_type": "code",
   "execution_count": 3,
   "metadata": {},
   "source": [
    "Point.type_pt = \"disc\""
   ],
   "outputs": []
  },
  {
   "cell_type": "markdown",
   "metadata": {},
   "source": [
    "Connected to Python 3.10.6"
   ]
  },
  {
   "cell_type": "code",
   "execution_count": 1,
   "metadata": {},
   "source": [
    "class Point:\n",
    "\n",
    "    #class atributes\n",
    "    color = \"red\"\n",
    "    radius = 2\n",
    "\n",
    "    #constructor\n",
    "    def __init__(self, x, y):\n",
    "        self.x = x\n",
    "        self.y = y\n",
    "\n",
    "Point.color = \"blue\"\n",
    "print(Point.color)\n",
    "print(Point.__dict__)\n",
    "a = Point(1, 2)\n",
    "print(isinstance(a, Point))\n",
    "print(type(a))"
   ],
   "outputs": []
  }
 ],
 "metadata": {
  "kernelspec": {
   "display_name": "Python 3",
   "language": "python",
   "name": "python3"
  },
  "language_info": {
   "codemirror_mode": {
    "name": "ipython",
    "version": 3
   },
   "file_extension": ".py",
   "mimetype": "text/x-python",
   "name": "python",
   "nbconvert_exporter": "python",
   "pygments_lexer": "ipython3",
   "version": "3.10.6"
  }
 },
 "nbformat": 4,
 "nbformat_minor": 2
}
